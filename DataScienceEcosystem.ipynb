{
 "cells": [
  {
   "cell_type": "markdown",
   "id": "9d6dc6af-5d2b-4c47-8456-31ce73ee13cb",
   "metadata": {},
   "source": [
    "**Exercise 2: Create markdown cell with title of the notebook\n",
    "Create a markdown cell with the title Data Science Tools and Ecosystem using H1 style heading.\n",
    "Take a screenshot of the markdown cell and name it as 2-title.png (Images can be saved with either the .jpg or .png extension.)**"
   ]
  },
  {
   "cell_type": "markdown",
   "id": "92177569-537e-41db-9be2-e17edb585cce",
   "metadata": {},
   "source": [
    "<h1> Data Science Tools and Ecosystem<h1>\n"
   ]
  },
  {
   "cell_type": "markdown",
   "id": "ea85e099-6fbf-4ee4-9467-286473648ee3",
   "metadata": {},
   "source": [
    "**Exercise 3 - Create a markdown cell for an introduction**"
   ]
  },
  {
   "cell_type": "markdown",
   "id": "b170d5c6-8229-4289-913d-b2e4bb3fc507",
   "metadata": {},
   "source": [
    "In this notebook, Data Science Tools and Ecosystem are summarized."
   ]
  },
  {
   "cell_type": "markdown",
   "id": "b3feef13-055e-4e61-858a-c42bebcdada6",
   "metadata": {},
   "source": [
    "**Exercise 10 - Insert a markdown cell to list Objectives**\n",
    "\n"
   ]
  },
  {
   "cell_type": "markdown",
   "id": "38fab604-3294-4350-a5a6-49e208057e28",
   "metadata": {},
   "source": [
    "**Objectives:**\n",
    "\n",
    "- List popular languages for Data Science.\n",
    "- Identify open-source development tools.\n",
    "- Evaluate arithmetic expressions in Python.\n",
    "- Understand the importance of data visualization.\n",
    "- Explore fundamental libraries for data analysis."
   ]
  },
  {
   "cell_type": "markdown",
   "id": "adf57e0c-ed51-41d3-b1fe-7611e5dba052",
   "metadata": {},
   "source": [
    "**Exercise 4 - Create a markdown cell to list data science languages**"
   ]
  },
  {
   "cell_type": "markdown",
   "id": "a05ab9f0-f07e-4791-b269-071dca37a61f",
   "metadata": {},
   "source": [
    "Some of the popular language that used by Data Scientist are:\n",
    "<br>1-Python\n",
    "<br>2-R\n",
    "<br>3-SQL\n",
    "<br>4-Scala"
   ]
  },
  {
   "cell_type": "markdown",
   "id": "4ddee24a-5bd4-4025-80b9-e5c589af4b18",
   "metadata": {},
   "source": [
    "**Exercise 5 - Create a markdown cell to list data science libraries**\n",
    "\n"
   ]
  },
  {
   "cell_type": "markdown",
   "id": "8196d389-57e8-4ab4-9fc7-0c2e5dece945",
   "metadata": {},
   "source": [
    "Some of the popular language that used by Data Scientist are:\n",
    "<br>**Python:**<br>1-Pandas<br>2-Numpy<br>4-Matplotlib<br>3-Sckit-Learn\n",
    "<br>**R**<br>1-dplyr<br>2-ggplot2<br>3-caret"
   ]
  },
  {
   "cell_type": "markdown",
   "id": "ef68a4a6-4929-4794-8cf9-5719559fd9de",
   "metadata": {},
   "source": [
    "**Exercise 6 - Create a markdown cell with a table of Data Science tools**"
   ]
  },
  {
   "cell_type": "markdown",
   "id": "4374fb20-e75f-44f2-aaf8-ab26f757c627",
   "metadata": {},
   "source": [
    "| Data Science Tools     |\n",
    "|------------------------|\n",
    "| Jupyter Notebook       |\n",
    "| RStudio                |\n",
    "| Apache Spark           |"
   ]
  },
  {
   "cell_type": "markdown",
   "id": "577514a5-598e-4299-a943-48b08176372c",
   "metadata": {},
   "source": [
    "**Exercise 7 - Create a markdown cell introducing arithmetic expression examples.**\n",
    "**Add a line in this cell with H3 style heading with text like:**\n"
   ]
  },
  {
   "cell_type": "markdown",
   "id": "fcbdffcf-508d-4ed2-b23b-056817df1c0a",
   "metadata": {},
   "source": [
    "<h3>Below are a few examples of evaluating arithmetic expressions in Python:<br>\r",
    " `3 + 5`  → Result: `8<br>`3 - 2`  → Result: `1`<br>`40 / 10`  → Result: `4``<h3\n"
   ]
  },
  {
   "cell_type": "markdown",
   "id": "20e41a7b-f48a-49d7-b4af-cf239c9c8a48",
   "metadata": {},
   "source": [
    "**Exercise 8 - Create a code cell to multiply and add numbers**"
   ]
  },
  {
   "cell_type": "code",
   "execution_count": 85,
   "id": "88bdd54e-4681-4512-a79e-cf56b695c4ad",
   "metadata": {},
   "outputs": [
    {
     "data": {
      "text/plain": [
       "84"
      ]
     },
     "execution_count": 85,
     "metadata": {},
     "output_type": "execute_result"
    }
   ],
   "source": [
    "#This a simple arithmetic expression to mutiply then add integers\n",
    "(25+3)*3"
   ]
  },
  {
   "cell_type": "markdown",
   "id": "45b207ca-e844-4665-9d7a-d100294514ec",
   "metadata": {},
   "source": [
    "**Exercise 9 - Create a code cell to convert minutes to hours**"
   ]
  },
  {
   "cell_type": "code",
   "execution_count": 93,
   "id": "702bf426-ec99-4f5d-b883-ce0e2f4582dc",
   "metadata": {},
   "outputs": [
    {
     "data": {
      "text/plain": [
       "'200 minutes are: 3.3 hours'"
      ]
     },
     "execution_count": 93,
     "metadata": {},
     "output_type": "execute_result"
    }
   ],
   "source": [
    "#This will convert 200 minutes to hours by diving by 60\n",
    "min_to_hour = 200/60\n",
    "'200 minutes are: '+ str(min_to_hour)[:3] + ' hours'"
   ]
  },
  {
   "cell_type": "markdown",
   "id": "e6586e8a-10f3-4fa9-a0ae-9fb44f45e223",
   "metadata": {},
   "source": [
    "**Exercise 11 - Create a markdown cell to indicate the Author's name**\r\n"
   ]
  },
  {
   "cell_type": "markdown",
   "id": "fa54f254-2576-4919-9c5a-001101f971a7",
   "metadata": {},
   "source": [
    "<h2>Francisco Ib.<h2>"
   ]
  },
  {
   "cell_type": "code",
   "execution_count": null,
   "id": "f49a9d89-2662-47a5-b1b0-73a85685149d",
   "metadata": {},
   "outputs": [],
   "source": []
  }
 ],
 "metadata": {
  "kernelspec": {
   "display_name": "Python 3 (ipykernel)",
   "language": "python",
   "name": "python3"
  },
  "language_info": {
   "codemirror_mode": {
    "name": "ipython",
    "version": 3
   },
   "file_extension": ".py",
   "mimetype": "text/x-python",
   "name": "python",
   "nbconvert_exporter": "python",
   "pygments_lexer": "ipython3",
   "version": "3.12.4"
  }
 },
 "nbformat": 4,
 "nbformat_minor": 5
}
